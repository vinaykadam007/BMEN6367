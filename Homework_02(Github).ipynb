{
  "nbformat": 4,
  "nbformat_minor": 0,
  "metadata": {
    "colab": {
      "provenance": [],
      "collapsed_sections": [],
      "authorship_tag": "ABX9TyMmLKSnRyMFtFlxmsYCHpnC",
      "include_colab_link": true
    },
    "kernelspec": {
      "name": "python3",
      "display_name": "Python 3"
    },
    "language_info": {
      "name": "python"
    }
  },
  "cells": [
    {
      "cell_type": "markdown",
      "metadata": {
        "id": "view-in-github",
        "colab_type": "text"
      },
      "source": [
        "<a href=\"https://colab.research.google.com/github/vinaykadam007/BMEN6367/blob/master/Homework_02(Github).ipynb\" target=\"_parent\"><img src=\"https://colab.research.google.com/assets/colab-badge.svg\" alt=\"Open In Colab\"/></a>"
      ]
    },
    {
      "cell_type": "markdown",
      "source": [
        "<h1><center>Link Github to Google colab</center></h1>\n",
        "\n"
      ],
      "metadata": {
        "id": "OcjO016Qa886"
      }
    },
    {
      "cell_type": "markdown",
      "source": [
        "<center>-By Vinay Kadam</center>"
      ],
      "metadata": {
        "id": "dlMx-jEsb45c"
      }
    },
    {
      "cell_type": "code",
      "source": [
        "from google.colab import drive\n",
        "drive.mount('/content/drive', force_remount=True)"
      ],
      "metadata": {
        "id": "BGnoWw7Nb7Gd",
        "colab": {
          "base_uri": "https://localhost:8080/"
        },
        "outputId": "72f3aced-ba23-4ddb-e115-d0d8f2466fab"
      },
      "execution_count": 1,
      "outputs": [
        {
          "output_type": "stream",
          "name": "stdout",
          "text": [
            "Mounted at /content/drive\n"
          ]
        }
      ]
    },
    {
      "cell_type": "code",
      "source": [
        "%cd /content/drive/MyDrive/Colab Notebooks/BMEN6367"
      ],
      "metadata": {
        "colab": {
          "base_uri": "https://localhost:8080/"
        },
        "id": "RZEJuv1xgYku",
        "outputId": "fb8b2855-5361-4058-9673-7e7b3619cd9c"
      },
      "execution_count": 2,
      "outputs": [
        {
          "output_type": "stream",
          "name": "stdout",
          "text": [
            "/content/drive/MyDrive/Colab Notebooks/BMEN6367\n"
          ]
        }
      ]
    },
    {
      "cell_type": "code",
      "source": [
        "!git init"
      ],
      "metadata": {
        "id": "E51nXAI9hXMr",
        "colab": {
          "base_uri": "https://localhost:8080/"
        },
        "outputId": "044742e2-12b7-4822-e899-59d2922ed2f6"
      },
      "execution_count": 3,
      "outputs": [
        {
          "output_type": "stream",
          "name": "stdout",
          "text": [
            "Reinitialized existing Git repository in /content/drive/MyDrive/Colab Notebooks/BMEN6367/.git/\n"
          ]
        }
      ]
    },
    {
      "cell_type": "code",
      "source": [
        "!git add Homework\\ 01.ipynb Homework\\ 02.ipynb Homework\\ 02\\(Github\\).ipynb"
      ],
      "metadata": {
        "id": "K0JuObLPiE2B"
      },
      "execution_count": 4,
      "outputs": []
    },
    {
      "cell_type": "code",
      "source": [
        "!git commit -m \"latest homework notebooks\""
      ],
      "metadata": {
        "colab": {
          "base_uri": "https://localhost:8080/"
        },
        "id": "Nb51nLrSiQmW",
        "outputId": "1ea0c3fe-7e81-4b88-8937-d9cda2303478"
      },
      "execution_count": 5,
      "outputs": [
        {
          "output_type": "stream",
          "name": "stdout",
          "text": [
            "[master 1bcce60] latest homework notebooks\n",
            " 1 file changed, 1 insertion(+), 1 deletion(-)\n",
            " rewrite Homework 02(Github).ipynb (64%)\n"
          ]
        }
      ]
    },
    {
      "cell_type": "code",
      "source": [
        "!git config --global user.email \"vinay0745@gmail.com\"\n",
        "!git config --global user.name \"Vinay Kadam\""
      ],
      "metadata": {
        "id": "pGfPgoCsignm"
      },
      "execution_count": 6,
      "outputs": []
    },
    {
      "cell_type": "code",
      "source": [
        "!git push origin master"
      ],
      "metadata": {
        "colab": {
          "base_uri": "https://localhost:8080/"
        },
        "id": "sTSDZOLRoTQ1",
        "outputId": "29b49d46-2b4c-4770-df0b-0d3b954da429"
      },
      "execution_count": 12,
      "outputs": [
        {
          "output_type": "stream",
          "name": "stdout",
          "text": [
            "Counting objects: 13, done.\n",
            "Delta compression using up to 2 threads.\n",
            "Compressing objects: 100% (13/13), done.\n",
            "Writing objects: 100% (13/13), 3.01 MiB | 6.79 MiB/s, done.\n",
            "Total 13 (delta 3), reused 0 (delta 0)\n",
            "remote: Resolving deltas: 100% (3/3), done.\u001b[K\n",
            "To https://github.com/vinaykadam007/BMEN6367.git\n",
            " * [new branch]      master -> master\n"
          ]
        }
      ]
    },
    {
      "cell_type": "code",
      "source": [],
      "metadata": {
        "id": "pNRD_7n8oYuM"
      },
      "execution_count": 8,
      "outputs": []
    }
  ]
}